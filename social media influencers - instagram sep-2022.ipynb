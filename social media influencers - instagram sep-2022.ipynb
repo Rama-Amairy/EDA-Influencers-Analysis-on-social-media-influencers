{
 "cells": [
  {
   "cell_type": "code",
   "execution_count": 2,
   "metadata": {},
   "outputs": [],
   "source": [
    "import pandas as pd\n",
    "import numpy as np\n",
    "import matplotlib.pyplot as plt\n",
    "import seaborn as sns"
   ]
  },
  {
   "cell_type": "code",
   "execution_count": 3,
   "metadata": {},
   "outputs": [],
   "source": [
    "df=pd.read_csv(\"social media influencers - instagram sep-2022.csv\")"
   ]
  },
  {
   "cell_type": "code",
   "execution_count": 4,
   "metadata": {},
   "outputs": [
    {
     "data": {
      "text/html": [
       "<div>\n",
       "<style scoped>\n",
       "    .dataframe tbody tr th:only-of-type {\n",
       "        vertical-align: middle;\n",
       "    }\n",
       "\n",
       "    .dataframe tbody tr th {\n",
       "        vertical-align: top;\n",
       "    }\n",
       "\n",
       "    .dataframe thead th {\n",
       "        text-align: right;\n",
       "    }\n",
       "</style>\n",
       "<table border=\"1\" class=\"dataframe\">\n",
       "  <thead>\n",
       "    <tr style=\"text-align: right;\">\n",
       "      <th></th>\n",
       "      <th>S.no</th>\n",
       "      <th>Instagram name</th>\n",
       "      <th>Name</th>\n",
       "      <th>Subscribers</th>\n",
       "      <th>Audience country</th>\n",
       "      <th>Authentic engagement\\n</th>\n",
       "      <th>Engagement average\\r\\n</th>\n",
       "      <th>Category_1</th>\n",
       "      <th>Category_2</th>\n",
       "    </tr>\n",
       "  </thead>\n",
       "  <tbody>\n",
       "    <tr>\n",
       "      <th>0</th>\n",
       "      <td>1</td>\n",
       "      <td>cristiano</td>\n",
       "      <td>Cristiano Ronaldo</td>\n",
       "      <td>477.9M</td>\n",
       "      <td>India</td>\n",
       "      <td>5M</td>\n",
       "      <td>6.2M</td>\n",
       "      <td>Sports with a ball</td>\n",
       "      <td>NaN</td>\n",
       "    </tr>\n",
       "    <tr>\n",
       "      <th>1</th>\n",
       "      <td>2</td>\n",
       "      <td>kyliejenner</td>\n",
       "      <td>Kylie 🤍</td>\n",
       "      <td>368.1M</td>\n",
       "      <td>United States</td>\n",
       "      <td>3.5M</td>\n",
       "      <td>5.5M</td>\n",
       "      <td>Fashion</td>\n",
       "      <td>Modeling</td>\n",
       "    </tr>\n",
       "    <tr>\n",
       "      <th>2</th>\n",
       "      <td>3</td>\n",
       "      <td>arianagrande</td>\n",
       "      <td>Ariana Grande</td>\n",
       "      <td>329.6M</td>\n",
       "      <td>United States</td>\n",
       "      <td>2.9M</td>\n",
       "      <td>4M</td>\n",
       "      <td>NaN</td>\n",
       "      <td>NaN</td>\n",
       "    </tr>\n",
       "    <tr>\n",
       "      <th>3</th>\n",
       "      <td>4</td>\n",
       "      <td>leomessi</td>\n",
       "      <td>Leo Messi</td>\n",
       "      <td>358.6M</td>\n",
       "      <td>Indonesia</td>\n",
       "      <td>2.7M</td>\n",
       "      <td>3.5M</td>\n",
       "      <td>Sports with a ball</td>\n",
       "      <td>Family</td>\n",
       "    </tr>\n",
       "    <tr>\n",
       "      <th>4</th>\n",
       "      <td>5</td>\n",
       "      <td>zendaya</td>\n",
       "      <td>Zendaya</td>\n",
       "      <td>151.1M</td>\n",
       "      <td>United States</td>\n",
       "      <td>4.3M</td>\n",
       "      <td>5.8M</td>\n",
       "      <td>Cinema &amp; Actors/actresses</td>\n",
       "      <td>Fashion</td>\n",
       "    </tr>\n",
       "  </tbody>\n",
       "</table>\n",
       "</div>"
      ],
      "text/plain": [
       "   S.no Instagram name               Name Subscribers Audience country  \\\n",
       "0     1      cristiano  Cristiano Ronaldo      477.9M            India   \n",
       "1     2    kyliejenner            Kylie 🤍      368.1M    United States   \n",
       "2     3   arianagrande      Ariana Grande      329.6M    United States   \n",
       "3     4       leomessi          Leo Messi      358.6M        Indonesia   \n",
       "4     5        zendaya            Zendaya      151.1M    United States   \n",
       "\n",
       "  Authentic engagement\\n Engagement average\\r\\n                 Category_1  \\\n",
       "0                     5M                   6.2M         Sports with a ball   \n",
       "1                   3.5M                   5.5M                    Fashion   \n",
       "2                   2.9M                     4M                        NaN   \n",
       "3                   2.7M                   3.5M         Sports with a ball   \n",
       "4                   4.3M                   5.8M  Cinema & Actors/actresses   \n",
       "\n",
       "  Category_2  \n",
       "0        NaN  \n",
       "1   Modeling  \n",
       "2        NaN  \n",
       "3     Family  \n",
       "4    Fashion  "
      ]
     },
     "execution_count": 4,
     "metadata": {},
     "output_type": "execute_result"
    }
   ],
   "source": [
    "df.head()"
   ]
  },
  {
   "cell_type": "code",
   "execution_count": 5,
   "metadata": {},
   "outputs": [
    {
     "data": {
      "text/plain": [
       "(1050, 9)"
      ]
     },
     "execution_count": 5,
     "metadata": {},
     "output_type": "execute_result"
    }
   ],
   "source": [
    "df.shape"
   ]
  },
  {
   "cell_type": "code",
   "execution_count": 6,
   "metadata": {},
   "outputs": [
    {
     "data": {
      "text/plain": [
       "Index(['S.no', 'Instagram name', ' Name', 'Subscribers', 'Audience country',\n",
       "       'Authentic engagement\\n', 'Engagement average\\r\\n', 'Category_1',\n",
       "       'Category_2'],\n",
       "      dtype='object')"
      ]
     },
     "execution_count": 6,
     "metadata": {},
     "output_type": "execute_result"
    }
   ],
   "source": [
    "df.columns"
   ]
  },
  {
   "cell_type": "code",
   "execution_count": 7,
   "metadata": {},
   "outputs": [
    {
     "data": {
      "text/plain": [
       "S.no                        0\n",
       "Instagram name              0\n",
       " Name                      21\n",
       "Subscribers                 0\n",
       "Audience country            4\n",
       "Authentic engagement\\n      0\n",
       "Engagement average\\r\\n      0\n",
       "Category_1                248\n",
       "Category_2                800\n",
       "dtype: int64"
      ]
     },
     "execution_count": 7,
     "metadata": {},
     "output_type": "execute_result"
    }
   ],
   "source": [
    "df.isnull().sum()"
   ]
  },
  {
   "cell_type": "markdown",
   "metadata": {},
   "source": [
    "From the previews information we see that tha name of the colums not clear and there is a a lot of null value in the category_1 and category_2"
   ]
  },
  {
   "cell_type": "code",
   "execution_count": 8,
   "metadata": {},
   "outputs": [],
   "source": [
    "df.drop([\"S.no\",\" Name\", \"Authentic engagement\\n\",'Category_2'], axis = 1, inplace = True)"
   ]
  },
  {
   "cell_type": "code",
   "execution_count": 9,
   "metadata": {},
   "outputs": [
    {
     "data": {
      "text/html": [
       "<div>\n",
       "<style scoped>\n",
       "    .dataframe tbody tr th:only-of-type {\n",
       "        vertical-align: middle;\n",
       "    }\n",
       "\n",
       "    .dataframe tbody tr th {\n",
       "        vertical-align: top;\n",
       "    }\n",
       "\n",
       "    .dataframe thead th {\n",
       "        text-align: right;\n",
       "    }\n",
       "</style>\n",
       "<table border=\"1\" class=\"dataframe\">\n",
       "  <thead>\n",
       "    <tr style=\"text-align: right;\">\n",
       "      <th></th>\n",
       "      <th>Instagram name</th>\n",
       "      <th>Followers</th>\n",
       "      <th>Audience country</th>\n",
       "      <th>Engagement average</th>\n",
       "      <th>Category</th>\n",
       "    </tr>\n",
       "  </thead>\n",
       "  <tbody>\n",
       "    <tr>\n",
       "      <th>0</th>\n",
       "      <td>cristiano</td>\n",
       "      <td>477.9M</td>\n",
       "      <td>India</td>\n",
       "      <td>6.2M</td>\n",
       "      <td>Sports with a ball</td>\n",
       "    </tr>\n",
       "    <tr>\n",
       "      <th>1</th>\n",
       "      <td>kyliejenner</td>\n",
       "      <td>368.1M</td>\n",
       "      <td>United States</td>\n",
       "      <td>5.5M</td>\n",
       "      <td>Fashion</td>\n",
       "    </tr>\n",
       "    <tr>\n",
       "      <th>2</th>\n",
       "      <td>arianagrande</td>\n",
       "      <td>329.6M</td>\n",
       "      <td>United States</td>\n",
       "      <td>4M</td>\n",
       "      <td>NaN</td>\n",
       "    </tr>\n",
       "    <tr>\n",
       "      <th>3</th>\n",
       "      <td>leomessi</td>\n",
       "      <td>358.6M</td>\n",
       "      <td>Indonesia</td>\n",
       "      <td>3.5M</td>\n",
       "      <td>Sports with a ball</td>\n",
       "    </tr>\n",
       "    <tr>\n",
       "      <th>4</th>\n",
       "      <td>zendaya</td>\n",
       "      <td>151.1M</td>\n",
       "      <td>United States</td>\n",
       "      <td>5.8M</td>\n",
       "      <td>Cinema &amp; Actors/actresses</td>\n",
       "    </tr>\n",
       "  </tbody>\n",
       "</table>\n",
       "</div>"
      ],
      "text/plain": [
       "  Instagram name Followers Audience country Engagement average  \\\n",
       "0      cristiano    477.9M            India               6.2M   \n",
       "1    kyliejenner    368.1M    United States               5.5M   \n",
       "2   arianagrande    329.6M    United States                 4M   \n",
       "3       leomessi    358.6M        Indonesia               3.5M   \n",
       "4        zendaya    151.1M    United States               5.8M   \n",
       "\n",
       "                    Category  \n",
       "0         Sports with a ball  \n",
       "1                    Fashion  \n",
       "2                        NaN  \n",
       "3         Sports with a ball  \n",
       "4  Cinema & Actors/actresses  "
      ]
     },
     "execution_count": 9,
     "metadata": {},
     "output_type": "execute_result"
    }
   ],
   "source": [
    "df.rename(columns = {'Category_1':'Category','Audience country(mostly)':'Audience Country', 'Subscribers':'Followers','Engagement average\\r\\n':'Engagement average'}, inplace = True)\n",
    "df.head()"
   ]
  },
  {
   "cell_type": "code",
   "execution_count": 10,
   "metadata": {},
   "outputs": [
    {
     "data": {
      "text/plain": [
       "(1050, 5)"
      ]
     },
     "execution_count": 10,
     "metadata": {},
     "output_type": "execute_result"
    }
   ],
   "source": [
    "df.drop_duplicates()\n",
    "df.shape"
   ]
  },
  {
   "cell_type": "markdown",
   "metadata": {},
   "source": [
    "**Start prosessing the data**:\n",
    "cahnge the number for the Followers and Engagement avarage"
   ]
  },
  {
   "cell_type": "code",
   "execution_count": 11,
   "metadata": {},
   "outputs": [
    {
     "name": "stdout",
     "output_type": "stream",
     "text": [
      "['M']\n"
     ]
    }
   ],
   "source": [
    "print(df['Followers'].str[-1].unique())"
   ]
  },
  {
   "cell_type": "code",
   "execution_count": 12,
   "metadata": {},
   "outputs": [],
   "source": [
    "df[\"Followers-2\"]=df[\"Followers\"].replace({\"K\":\"*1e3\", \"M\":\"*1e6\"}, regex=True).map(pd.eval).astype(int)\n",
    "df[\"Engagement average-2\"]=df[\"Engagement average\"].replace({\"K\":\"*1e3\", \"M\":\"*1e6\"}, regex=True).map(pd.eval).astype(int)"
   ]
  },
  {
   "cell_type": "code",
   "execution_count": 13,
   "metadata": {},
   "outputs": [
    {
     "data": {
      "text/html": [
       "<div>\n",
       "<style scoped>\n",
       "    .dataframe tbody tr th:only-of-type {\n",
       "        vertical-align: middle;\n",
       "    }\n",
       "\n",
       "    .dataframe tbody tr th {\n",
       "        vertical-align: top;\n",
       "    }\n",
       "\n",
       "    .dataframe thead th {\n",
       "        text-align: right;\n",
       "    }\n",
       "</style>\n",
       "<table border=\"1\" class=\"dataframe\">\n",
       "  <thead>\n",
       "    <tr style=\"text-align: right;\">\n",
       "      <th></th>\n",
       "      <th>Instagram name</th>\n",
       "      <th>Followers</th>\n",
       "      <th>Audience country</th>\n",
       "      <th>Engagement average</th>\n",
       "      <th>Category</th>\n",
       "      <th>Followers-2</th>\n",
       "      <th>Engagement average-2</th>\n",
       "    </tr>\n",
       "  </thead>\n",
       "  <tbody>\n",
       "    <tr>\n",
       "      <th>0</th>\n",
       "      <td>cristiano</td>\n",
       "      <td>477.9M</td>\n",
       "      <td>India</td>\n",
       "      <td>6.2M</td>\n",
       "      <td>Sports with a ball</td>\n",
       "      <td>477900000</td>\n",
       "      <td>6200000</td>\n",
       "    </tr>\n",
       "    <tr>\n",
       "      <th>1</th>\n",
       "      <td>kyliejenner</td>\n",
       "      <td>368.1M</td>\n",
       "      <td>United States</td>\n",
       "      <td>5.5M</td>\n",
       "      <td>Fashion</td>\n",
       "      <td>368100000</td>\n",
       "      <td>5500000</td>\n",
       "    </tr>\n",
       "    <tr>\n",
       "      <th>2</th>\n",
       "      <td>arianagrande</td>\n",
       "      <td>329.6M</td>\n",
       "      <td>United States</td>\n",
       "      <td>4M</td>\n",
       "      <td>NaN</td>\n",
       "      <td>329600000</td>\n",
       "      <td>4000000</td>\n",
       "    </tr>\n",
       "    <tr>\n",
       "      <th>3</th>\n",
       "      <td>leomessi</td>\n",
       "      <td>358.6M</td>\n",
       "      <td>Indonesia</td>\n",
       "      <td>3.5M</td>\n",
       "      <td>Sports with a ball</td>\n",
       "      <td>358600000</td>\n",
       "      <td>3500000</td>\n",
       "    </tr>\n",
       "    <tr>\n",
       "      <th>4</th>\n",
       "      <td>zendaya</td>\n",
       "      <td>151.1M</td>\n",
       "      <td>United States</td>\n",
       "      <td>5.8M</td>\n",
       "      <td>Cinema &amp; Actors/actresses</td>\n",
       "      <td>151100000</td>\n",
       "      <td>5800000</td>\n",
       "    </tr>\n",
       "  </tbody>\n",
       "</table>\n",
       "</div>"
      ],
      "text/plain": [
       "  Instagram name Followers Audience country Engagement average  \\\n",
       "0      cristiano    477.9M            India               6.2M   \n",
       "1    kyliejenner    368.1M    United States               5.5M   \n",
       "2   arianagrande    329.6M    United States                 4M   \n",
       "3       leomessi    358.6M        Indonesia               3.5M   \n",
       "4        zendaya    151.1M    United States               5.8M   \n",
       "\n",
       "                    Category  Followers-2  Engagement average-2  \n",
       "0         Sports with a ball    477900000               6200000  \n",
       "1                    Fashion    368100000               5500000  \n",
       "2                        NaN    329600000               4000000  \n",
       "3         Sports with a ball    358600000               3500000  \n",
       "4  Cinema & Actors/actresses    151100000               5800000  "
      ]
     },
     "execution_count": 13,
     "metadata": {},
     "output_type": "execute_result"
    }
   ],
   "source": [
    "df.head()"
   ]
  },
  {
   "cell_type": "markdown",
   "metadata": {},
   "source": [
    "**Top 10 influencers**"
   ]
  },
  {
   "cell_type": "code",
   "execution_count": 50,
   "metadata": {},
   "outputs": [
    {
     "data": {
      "text/plain": [
       "Text(0.5, 1.0, 'Top 10 influencers')"
      ]
     },
     "execution_count": 50,
     "metadata": {},
     "output_type": "execute_result"
    },
    {
     "data": {
      "image/png": "[encoded data removed]",
      "text/plain": [
       "<Figure size 842.4x595.44 with 1 Axes>"
      ]
     },
     "metadata": {},
     "output_type": "display_data"
    }
   ],
   "source": [
    "\n",
    "sns.set(rc={'figure.figsize':(11.7,8.27)});\n",
    "sns.barplot(y='Instagram name',x='Followers-2',data=df.sort_values(by='Followers-2',ascending=False).head(10)).set_title(\"Top 10 influencers\")"
   ]
  },
  {
   "cell_type": "markdown",
   "metadata": {},
   "source": [
    "**Top Audience country**"
   ]
  },
  {
   "cell_type": "code",
   "execution_count": 49,
   "metadata": {},
   "outputs": [
    {
     "data": {
      "text/plain": [
       "Text(0.5, 1.0, 'Top Audience country')"
      ]
     },
     "execution_count": 49,
     "metadata": {},
     "output_type": "execute_result"
    },
    {
     "data": {
      "image/png": "[encoded data removed]",
      "text/plain": [
       "<Figure size 842.4x595.44 with 1 Axes>"
      ]
     },
     "metadata": {},
     "output_type": "display_data"
    }
   ],
   "source": [
    "\n",
    "chart = sns.countplot(x=\"Audience country\", data=df, order = df['Audience country'].value_counts().index)\n",
    "chart.set_xticklabels(chart.get_xticklabels(), rotation=90);\n",
    "chart.set_title(\"Top Audience country\")"
   ]
  },
  {
   "cell_type": "markdown",
   "metadata": {},
   "source": [
    "**Top category**"
   ]
  },
  {
   "cell_type": "code",
   "execution_count": 48,
   "metadata": {},
   "outputs": [
    {
     "data": {
      "text/plain": [
       "Text(0.5, 1.0, 'Top category')"
      ]
     },
     "execution_count": 48,
     "metadata": {},
     "output_type": "execute_result"
    },
    {
     "data": {
      "image/png": "[encoded data removed]",
      "text/plain": [
       "<Figure size 842.4x595.44 with 1 Axes>"
      ]
     },
     "metadata": {},
     "output_type": "display_data"
    }
   ],
   "source": [
    "chart = sns.countplot(x=\"Category\", data=df, order = df['Category'].value_counts().index)\n",
    "chart.set_xticklabels(chart.get_xticklabels(), rotation=90);\n",
    "chart.set_title(\"Top category\")"
   ]
  },
  {
   "cell_type": "markdown",
   "metadata": {},
   "source": [
    "**Target country for a spicific category**"
   ]
  },
  {
   "cell_type": "code",
   "execution_count": null,
   "metadata": {},
   "outputs": [],
   "source": []
  },
  {
   "cell_type": "code",
   "execution_count": 47,
   "metadata": {},
   "outputs": [
    {
     "data": {
      "text/plain": [
       "Text(0.5, 1.0, 'Top country in Beauty category')"
      ]
     },
     "execution_count": 47,
     "metadata": {},
     "output_type": "execute_result"
    },
    {
     "data": {
      "image/png": "[encoded data removed]",
      "text/plain": [
       "<Figure size 842.4x595.44 with 1 Axes>"
      ]
     },
     "metadata": {},
     "output_type": "display_data"
    }
   ],
   "source": [
    "#Beauty\n",
    "beauty=df[df['Category']==\"Beauty\"]\n",
    "chart = sns.countplot(x='Audience country', data=beauty, order = beauty['Audience country'].value_counts().index)\n",
    "chart.set_xticklabels(chart.get_xticklabels(), rotation=90);\n",
    "chart.set_title(\"Top country in Beauty category\")"
   ]
  },
  {
   "cell_type": "markdown",
   "metadata": {},
   "source": [
    "**Engagement Rate**"
   ]
  },
  {
   "cell_type": "markdown",
   "metadata": {},
   "source": [
    "Engagement rates are metrics that track how actively involved with your content your audience is. Engaged consumers interact with brands through “likes” comments and social sharing. The engagement rate is a metric often used in analyzing the efficacy of brand campaigns."
   ]
  },
  {
   "cell_type": "markdown",
   "metadata": {},
   "source": [
    "Engagement rate is calculated as total engagement divided by total followers, multiplied by 100%.\n",
    "The engagement rate formula is: Engagement Rate = Total Engagement / Total Followers x 100%"
   ]
  },
  {
   "cell_type": "code",
   "execution_count": 31,
   "metadata": {},
   "outputs": [
    {
     "data": {
      "text/html": [
       "<div>\n",
       "<style scoped>\n",
       "    .dataframe tbody tr th:only-of-type {\n",
       "        vertical-align: middle;\n",
       "    }\n",
       "\n",
       "    .dataframe tbody tr th {\n",
       "        vertical-align: top;\n",
       "    }\n",
       "\n",
       "    .dataframe thead th {\n",
       "        text-align: right;\n",
       "    }\n",
       "</style>\n",
       "<table border=\"1\" class=\"dataframe\">\n",
       "  <thead>\n",
       "    <tr style=\"text-align: right;\">\n",
       "      <th></th>\n",
       "      <th>Instagram name</th>\n",
       "      <th>Followers</th>\n",
       "      <th>Audience country</th>\n",
       "      <th>Engagement average</th>\n",
       "      <th>Category</th>\n",
       "      <th>Followers-2</th>\n",
       "      <th>Engagement average-2</th>\n",
       "      <th>Engagement Rate</th>\n",
       "    </tr>\n",
       "  </thead>\n",
       "  <tbody>\n",
       "    <tr>\n",
       "      <th>0</th>\n",
       "      <td>cristiano</td>\n",
       "      <td>477.9M</td>\n",
       "      <td>India</td>\n",
       "      <td>6.2M</td>\n",
       "      <td>Sports with a ball</td>\n",
       "      <td>477900000</td>\n",
       "      <td>6200000</td>\n",
       "      <td>1.297</td>\n",
       "    </tr>\n",
       "    <tr>\n",
       "      <th>1</th>\n",
       "      <td>kyliejenner</td>\n",
       "      <td>368.1M</td>\n",
       "      <td>United States</td>\n",
       "      <td>5.5M</td>\n",
       "      <td>Fashion</td>\n",
       "      <td>368100000</td>\n",
       "      <td>5500000</td>\n",
       "      <td>1.494</td>\n",
       "    </tr>\n",
       "    <tr>\n",
       "      <th>2</th>\n",
       "      <td>arianagrande</td>\n",
       "      <td>329.6M</td>\n",
       "      <td>United States</td>\n",
       "      <td>4M</td>\n",
       "      <td>NaN</td>\n",
       "      <td>329600000</td>\n",
       "      <td>4000000</td>\n",
       "      <td>1.214</td>\n",
       "    </tr>\n",
       "    <tr>\n",
       "      <th>3</th>\n",
       "      <td>leomessi</td>\n",
       "      <td>358.6M</td>\n",
       "      <td>Indonesia</td>\n",
       "      <td>3.5M</td>\n",
       "      <td>Sports with a ball</td>\n",
       "      <td>358600000</td>\n",
       "      <td>3500000</td>\n",
       "      <td>0.976</td>\n",
       "    </tr>\n",
       "    <tr>\n",
       "      <th>4</th>\n",
       "      <td>zendaya</td>\n",
       "      <td>151.1M</td>\n",
       "      <td>United States</td>\n",
       "      <td>5.8M</td>\n",
       "      <td>Cinema &amp; Actors/actresses</td>\n",
       "      <td>151100000</td>\n",
       "      <td>5800000</td>\n",
       "      <td>3.839</td>\n",
       "    </tr>\n",
       "  </tbody>\n",
       "</table>\n",
       "</div>"
      ],
      "text/plain": [
       "  Instagram name Followers Audience country Engagement average  \\\n",
       "0      cristiano    477.9M            India               6.2M   \n",
       "1    kyliejenner    368.1M    United States               5.5M   \n",
       "2   arianagrande    329.6M    United States                 4M   \n",
       "3       leomessi    358.6M        Indonesia               3.5M   \n",
       "4        zendaya    151.1M    United States               5.8M   \n",
       "\n",
       "                    Category  Followers-2  Engagement average-2  \\\n",
       "0         Sports with a ball    477900000               6200000   \n",
       "1                    Fashion    368100000               5500000   \n",
       "2                        NaN    329600000               4000000   \n",
       "3         Sports with a ball    358600000               3500000   \n",
       "4  Cinema & Actors/actresses    151100000               5800000   \n",
       "\n",
       "   Engagement Rate  \n",
       "0            1.297  \n",
       "1            1.494  \n",
       "2            1.214  \n",
       "3            0.976  \n",
       "4            3.839  "
      ]
     },
     "execution_count": 31,
     "metadata": {},
     "output_type": "execute_result"
    }
   ],
   "source": [
    "df['Engagement Rate']=np.round((df['Engagement average-2']/df['Followers-2'])*100,3)\n",
    "df.head()"
   ]
  },
  {
   "cell_type": "markdown",
   "metadata": {},
   "source": [
    "if you want to target mini influencers you can take a low followers with high ER "
   ]
  },
  {
   "cell_type": "code",
   "execution_count": 32,
   "metadata": {},
   "outputs": [
    {
     "data": {
      "text/html": [
       "<div>\n",
       "<style scoped>\n",
       "    .dataframe tbody tr th:only-of-type {\n",
       "        vertical-align: middle;\n",
       "    }\n",
       "\n",
       "    .dataframe tbody tr th {\n",
       "        vertical-align: top;\n",
       "    }\n",
       "\n",
       "    .dataframe thead th {\n",
       "        text-align: right;\n",
       "    }\n",
       "</style>\n",
       "<table border=\"1\" class=\"dataframe\">\n",
       "  <thead>\n",
       "    <tr style=\"text-align: right;\">\n",
       "      <th></th>\n",
       "      <th>Instagram name</th>\n",
       "      <th>Followers</th>\n",
       "      <th>Audience country</th>\n",
       "      <th>Engagement average</th>\n",
       "      <th>Category</th>\n",
       "      <th>Followers-2</th>\n",
       "      <th>Engagement average-2</th>\n",
       "      <th>Engagement Rate</th>\n",
       "    </tr>\n",
       "  </thead>\n",
       "  <tbody>\n",
       "    <tr>\n",
       "      <th>1</th>\n",
       "      <td>kyliejenner</td>\n",
       "      <td>368.1M</td>\n",
       "      <td>United States</td>\n",
       "      <td>5.5M</td>\n",
       "      <td>Fashion</td>\n",
       "      <td>368100000</td>\n",
       "      <td>5500000</td>\n",
       "      <td>1.494</td>\n",
       "    </tr>\n",
       "    <tr>\n",
       "      <th>5</th>\n",
       "      <td>selenagomez</td>\n",
       "      <td>344.2M</td>\n",
       "      <td>United States</td>\n",
       "      <td>2.4M</td>\n",
       "      <td>Lifestyle</td>\n",
       "      <td>344200000</td>\n",
       "      <td>2400000</td>\n",
       "      <td>0.697</td>\n",
       "    </tr>\n",
       "    <tr>\n",
       "      <th>9</th>\n",
       "      <td>beyonce</td>\n",
       "      <td>274.1M</td>\n",
       "      <td>United States</td>\n",
       "      <td>2.1M</td>\n",
       "      <td>Fashion</td>\n",
       "      <td>274100000</td>\n",
       "      <td>2100000</td>\n",
       "      <td>0.766</td>\n",
       "    </tr>\n",
       "    <tr>\n",
       "      <th>10</th>\n",
       "      <td>kimkardashian</td>\n",
       "      <td>329.8M</td>\n",
       "      <td>United States</td>\n",
       "      <td>1.6M</td>\n",
       "      <td>Fashion</td>\n",
       "      <td>329800000</td>\n",
       "      <td>1600000</td>\n",
       "      <td>0.485</td>\n",
       "    </tr>\n",
       "    <tr>\n",
       "      <th>17</th>\n",
       "      <td>agustd</td>\n",
       "      <td>38.3M</td>\n",
       "      <td>South Korea</td>\n",
       "      <td>9.9M</td>\n",
       "      <td>Lifestyle</td>\n",
       "      <td>38300000</td>\n",
       "      <td>9900000</td>\n",
       "      <td>25.849</td>\n",
       "    </tr>\n",
       "  </tbody>\n",
       "</table>\n",
       "</div>"
      ],
      "text/plain": [
       "   Instagram name Followers Audience country Engagement average   Category  \\\n",
       "1     kyliejenner    368.1M    United States               5.5M    Fashion   \n",
       "5     selenagomez    344.2M    United States               2.4M  Lifestyle   \n",
       "9         beyonce    274.1M    United States               2.1M    Fashion   \n",
       "10  kimkardashian    329.8M    United States               1.6M    Fashion   \n",
       "17         agustd     38.3M      South Korea               9.9M  Lifestyle   \n",
       "\n",
       "    Followers-2  Engagement average-2  Engagement Rate  \n",
       "1     368100000               5500000            1.494  \n",
       "5     344200000               2400000            0.697  \n",
       "9     274100000               2100000            0.766  \n",
       "10    329800000               1600000            0.485  \n",
       "17     38300000               9900000           25.849  "
      ]
     },
     "execution_count": 32,
     "metadata": {},
     "output_type": "execute_result"
    }
   ],
   "source": [
    "#Beauty and fashion\n",
    "beauty2=df[df['Category'].isin(['Lifestyle','Fashion','Beauty'])]\n",
    "beauty2.head()"
   ]
  },
  {
   "cell_type": "code",
   "execution_count": 53,
   "metadata": {},
   "outputs": [
    {
     "data": {
      "text/html": [
       "<div>\n",
       "<style scoped>\n",
       "    .dataframe tbody tr th:only-of-type {\n",
       "        vertical-align: middle;\n",
       "    }\n",
       "\n",
       "    .dataframe tbody tr th {\n",
       "        vertical-align: top;\n",
       "    }\n",
       "\n",
       "    .dataframe thead th {\n",
       "        text-align: right;\n",
       "    }\n",
       "</style>\n",
       "<table border=\"1\" class=\"dataframe\">\n",
       "  <thead>\n",
       "    <tr style=\"text-align: right;\">\n",
       "      <th></th>\n",
       "      <th>Instagram name</th>\n",
       "      <th>Followers</th>\n",
       "      <th>Audience country</th>\n",
       "      <th>Engagement average</th>\n",
       "      <th>Category</th>\n",
       "      <th>Followers-2</th>\n",
       "      <th>Engagement average-2</th>\n",
       "      <th>Engagement Rate</th>\n",
       "    </tr>\n",
       "  </thead>\n",
       "  <tbody>\n",
       "    <tr>\n",
       "      <th>553</th>\n",
       "      <td>srinidhi_shetty</td>\n",
       "      <td>4.4M</td>\n",
       "      <td>India</td>\n",
       "      <td>1.1M</td>\n",
       "      <td>Beauty</td>\n",
       "      <td>4400000</td>\n",
       "      <td>1100000</td>\n",
       "      <td>25.000</td>\n",
       "    </tr>\n",
       "    <tr>\n",
       "      <th>832</th>\n",
       "      <td>dhanashree9</td>\n",
       "      <td>5.2M</td>\n",
       "      <td>India</td>\n",
       "      <td>525K</td>\n",
       "      <td>Lifestyle</td>\n",
       "      <td>5200000</td>\n",
       "      <td>525000</td>\n",
       "      <td>10.096</td>\n",
       "    </tr>\n",
       "  </tbody>\n",
       "</table>\n",
       "</div>"
      ],
      "text/plain": [
       "      Instagram name Followers Audience country Engagement average   Category  \\\n",
       "553  srinidhi_shetty      4.4M            India               1.1M     Beauty   \n",
       "832      dhanashree9      5.2M            India               525K  Lifestyle   \n",
       "\n",
       "     Followers-2  Engagement average-2  Engagement Rate  \n",
       "553      4400000               1100000           25.000  \n",
       "832      5200000                525000           10.096  "
      ]
     },
     "execution_count": 53,
     "metadata": {},
     "output_type": "execute_result"
    }
   ],
   "source": [
    "df1=beauty2[beauty2['Audience country']==\"India\"]\n",
    "df1_mini=df1[df1['Followers-2']<6000000]\n",
    "#df1_mini=df1_mini.sort_values(by='Engagement Rate',ascending=False).groupby('Category')\n",
    "df1_mini.head()"
   ]
  },
  {
   "cell_type": "code",
   "execution_count": 54,
   "metadata": {},
   "outputs": [
    {
     "data": {
      "text/plain": [
       "Text(0.5, 1.0, 'mini influencers in India in the category Lifestyle,Fashion,Beauty')"
      ]
     },
     "execution_count": 54,
     "metadata": {},
     "output_type": "execute_result"
    },
    {
     "data": {
      "image/png": "[encoded data removed]",
      "text/plain": [
       "<Figure size 842.4x595.44 with 1 Axes>"
      ]
     },
     "metadata": {},
     "output_type": "display_data"
    }
   ],
   "source": [
    "sns.barplot(x='Category',y='Engagement Rate',data=df1_mini.sort_values(by='Engagement Rate',ascending=True)).set_title('mini influencers in India in the category Lifestyle,Fashion,Beauty')"
   ]
  },
  {
   "cell_type": "markdown",
   "metadata": {},
   "source": [
    "**we found that the ER in US is highest in the Lifestyle category with the mini influencers**"
   ]
  },
  {
   "cell_type": "code",
   "execution_count": null,
   "metadata": {},
   "outputs": [],
   "source": []
  }
 ],
 "metadata": {
  "kernelspec": {
   "display_name": "Python 3",
   "language": "python",
   "name": "python3"
  },
  "language_info": {
   "codemirror_mode": {
    "name": "ipython",
    "version": 3
   },
   "file_extension": ".py",
   "mimetype": "text/x-python",
   "name": "python",
   "nbconvert_exporter": "python",
   "pygments_lexer": "ipython3",
   "version": "3.8.5"
  }
 },
 "nbformat": 4,
 "nbformat_minor": 4
}
